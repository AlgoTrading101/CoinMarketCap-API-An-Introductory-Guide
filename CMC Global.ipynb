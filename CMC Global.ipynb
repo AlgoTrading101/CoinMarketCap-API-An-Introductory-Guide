{
 "cells": [
  {
   "cell_type": "code",
   "execution_count": 1,
   "metadata": {},
   "outputs": [],
   "source": [
    "from coinmarketcapapi import CoinMarketCapAPI\n",
    "cmc = CoinMarketCapAPI('b44c1fd8-1c05-45b9-8df7-380a409f9b69')"
   ]
  },
  {
   "cell_type": "code",
   "execution_count": 2,
   "metadata": {},
   "outputs": [],
   "source": [
    "global_quote = cmc.globalmetrics_quotes_latest()"
   ]
  },
  {
   "cell_type": "code",
   "execution_count": 3,
   "metadata": {},
   "outputs": [
    {
     "data": {
      "text/plain": [
       "RESPONSE: 267ms OK: {'active_cryptocurrencies': 3784, 'total_cryptocurrencies': 7723, 'active_market_pairs': 33129, 'active_exchanges': 388, 'total_exchanges': 1216, 'eth_dominance': 10.698984502003, 'btc_dominance': 66.213228324229, 'defi_volume_24h': 5665725166.727385, 'defi_volume_24h_reported': 10481963490.475964, 'defi_market_cap': 16704896365.030897, 'defi_24h_percentage_change': -20.211832982723, 'stablecoin_volume_24h': 55802791467.60659, 'stablecoin_volume_24h_reported': 98424236704.81424, 'stablecoin_market_cap': 25867414691.194687, 'stablecoin_24h_percentage_change': -20.560137486947, 'derivatives_volume_24h': 48890498794.13447, 'derivatives_volume_24h_reported': 48890498794.13447, 'derivatives_24h_percentage_change': -36.567983818966, 'quote': {'USD': {'total_market_cap': 501460174965.00714, 'total_volume_24h': 136940861248.58495, 'total_volume_24h_reported': 250836086012.86646, 'altcoin_volume_24h': 99708454952.53343, 'altcoin_volume_24h_reported': 171198360176.43512, 'altcoin_market_cap': 169427204360.34778, 'last_updated': '2020-11-19T19:30:18.000Z'}}, 'last_updated': '2020-11-19T19:30:18.000Z'}"
      ]
     },
     "execution_count": 3,
     "metadata": {},
     "output_type": "execute_result"
    }
   ],
   "source": [
    "global_quote"
   ]
  },
  {
   "cell_type": "code",
   "execution_count": null,
   "metadata": {},
   "outputs": [],
   "source": []
  }
 ],
 "metadata": {
  "kernelspec": {
   "display_name": "Python 3",
   "language": "python",
   "name": "python3"
  },
  "language_info": {
   "codemirror_mode": {
    "name": "ipython",
    "version": 3
   },
   "file_extension": ".py",
   "mimetype": "text/x-python",
   "name": "python",
   "nbconvert_exporter": "python",
   "pygments_lexer": "ipython3",
   "version": "3.8.3"
  }
 },
 "nbformat": 4,
 "nbformat_minor": 4
}
