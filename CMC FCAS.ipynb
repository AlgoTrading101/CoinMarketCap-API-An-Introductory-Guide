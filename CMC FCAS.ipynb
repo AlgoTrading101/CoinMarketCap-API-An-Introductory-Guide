{
 "cells": [
  {
   "cell_type": "code",
   "execution_count": 1,
   "metadata": {},
   "outputs": [],
   "source": [
    "from coinmarketcapapi import CoinMarketCapAPI\n",
    "cmc = CoinMarketCapAPI('b44c1fd8-1c05-45b9-8df7-380a409f9b69')"
   ]
  },
  {
   "cell_type": "code",
   "execution_count": 2,
   "metadata": {},
   "outputs": [],
   "source": [
    "FCAS_listing = cmc.partners_flipsidecrypto_fcas_listings_latest()"
   ]
  },
  {
   "cell_type": "code",
   "execution_count": 3,
   "metadata": {},
   "outputs": [
    {
     "data": {
      "text/plain": [
       "RESPONSE: 267ms OK: [{'id': 1027, 'name': 'Ethereum', 'symbol': 'ETH', 'slug': 'ethereum', 'score': 969, 'grade': 'S', 'last_updated': '2020-11-19T00:00:00Z'}, {'id': 4943, 'name': 'Dai', 'symbol': 'DAI', 'slug': 'multi-collateral-dai', 'score': 948, 'grade': 'S', 'last_updated': '2020-11-19T00:00:00Z'}, {'id': 1975, 'name': 'Chainlink', 'symbol': 'LINK', 'slug': 'chainlink', 'score': 943, 'grade': 'S', 'last_updated': '2020-11-19T00:00:00Z'}, {'id': 2308, 'name': 'Single Collateral DAI ', 'symbol': 'SAI', 'slug': 'single-collateral-dai', 'score': 942, 'grade': 'S', 'last_updated': '2019-11-29T00:00:00Z'}, {'id': 1518, 'name': 'Maker', 'symbol': 'MKR', 'slug': 'maker', 'score': 914, 'grade': 'S', 'last_updated': '2020-11-19T00:00:00Z'}, {'id': 2010, 'name': 'Cardano', 'symbol': 'ADA', 'slug': 'cardano', 'score': 899, 'grade': 'A', 'last_updated': '2020-11-19T00:00:00Z'}, {'id': 2586, 'name': 'Synthetix', 'symbol': 'SNX', 'slug': 'synthetix-network-token', 'score': 898, 'grade': 'A', 'last_updated': '2020-11-19T00:00:00Z'}, {'id': 1765, 'name': 'EOS', 'symbol': 'EOS', 'slug': 'eos', 'score': 897, 'grade': 'A', 'last_updated': '2020-11-19T00:00:00Z'}, {'id': 1966, 'name': 'Decentraland', 'symbol': 'MANA', 'slug': 'decentraland', 'score': 892, 'grade': 'A', 'last_updated': '2020-11-19T00:00:00Z'}, {'id': 512, 'name': 'Stellar', 'symbol': 'XLM', 'slug': 'stellar', 'score': 891, 'grade': 'A', 'last_updated': '2020-11-19T00:00:00Z'}, {'id': 1896, 'name': '0x', 'symbol': 'ZRX', 'slug': '0x', 'score': 886, 'grade': 'A', 'last_updated': '2020-11-19T00:00:00Z'}, {'id': 1, 'name': 'Bitcoin', 'symbol': 'BTC', 'slug': 'bitcoin', 'score': 880, 'grade': 'A', 'last_updated': '2020-11-19T00:00:00Z'}, {'id': 1958, 'name': 'TRON', 'symbol': 'TRX', 'slug': 'tron', 'score': 873, 'grade': 'A', 'last_updated': '2020-11-19T00:00:00Z'}, {'id': 328, 'name': 'Monero', 'symbol': 'XMR', 'slug': 'monero', 'score': 866, 'grade': 'A', 'last_updated': '2020-11-19T00:00:00Z'}, {'id': 4030, 'name': 'Algorand', 'symbol': 'ALGO', 'slug': 'algorand', 'score': 866, 'grade': 'A', 'last_updated': '2020-11-19T00:00:00Z'}, {'id': 1808, 'name': 'OMG Network', 'symbol': 'OMG', 'slug': 'omg', 'score': 864, 'grade': 'A', 'last_updated': '2020-11-19T00:00:00Z'}, {'id': 5692, 'name': 'Compound', 'symbol': 'COMP', 'slug': 'compound', 'score': 856, 'grade': 'A', 'last_updated': '2020-11-19T00:00:00Z'}, {'id': 2469, 'name': 'Zilliqa', 'symbol': 'ZIL', 'slug': 'zilliqa', 'score': 855, 'grade': 'A', 'last_updated': '2020-11-19T00:00:00Z'}, {'id': 1934, 'name': 'Loopring', 'symbol': 'LRC', 'slug': 'loopring', 'score': 855, 'grade': 'A', 'last_updated': '2020-11-19T00:00:00Z'}, {'id': 1982, 'name': 'Kyber Network', 'symbol': 'KNC', 'slug': 'kyber-network', 'score': 854, 'grade': 'A', 'last_updated': '2020-11-19T00:00:00Z'}, {'id': 52, 'name': 'XRP', 'symbol': 'XRP', 'slug': 'xrp', 'score': 854, 'grade': 'A', 'last_updated': '2020-11-19T00:00:00Z'}, {'id': 3635, 'name': 'Crypto.com Coin', 'symbol': 'CRO', 'slug': 'crypto-com-coin', 'score': 850, 'grade': 'A', 'last_updated': '2020-11-19T00:00:00Z'}, {'id': 2239, 'name': 'Aave', 'symbol': 'LEND', 'slug': 'aave-old', 'score': 847, 'grade': 'A', 'last_updated': '2020-11-19T00:00:00Z'}, {'id': 1759, 'name': 'Status', 'symbol': 'SNT', 'slug': 'status', 'score': 840, 'grade': 'A', 'last_updated': '2020-11-19T00:00:00Z'}, {'id': 131, 'name': 'Dash', 'symbol': 'DASH', 'slug': 'dash', 'score': 839, 'grade': 'A', 'last_updated': '2020-11-19T00:00:00Z'}, {'id': 1321, 'name': 'Ethereum Classic', 'symbol': 'ETC', 'slug': 'ethereum-classic', 'score': 838, 'grade': 'A', 'last_updated': '2020-11-19T00:00:00Z'}, {'id': 1831, 'name': 'Bitcoin Cash', 'symbol': 'BCH', 'slug': 'bitcoin-cash', 'score': 832, 'grade': 'A', 'last_updated': '2020-11-19T00:00:00Z'}, {'id': 1437, 'name': 'Zcash', 'symbol': 'ZEC', 'slug': 'zcash', 'score': 832, 'grade': 'A', 'last_updated': '2020-11-19T00:00:00Z'}, {'id': 1772, 'name': 'Storj', 'symbol': 'STORJ', 'slug': 'storj', 'score': 831, 'grade': 'A', 'last_updated': '2020-11-19T00:00:00Z'}, {'id': 1455, 'name': 'Golem', 'symbol': 'GNT', 'slug': 'golem-network-tokens', 'score': 827, 'grade': 'A', 'last_updated': '2020-11-19T00:00:00Z'}, {'id': 1698, 'name': 'Horizen', 'symbol': 'ZEN', 'slug': 'horizen', 'score': 822, 'grade': 'A', 'last_updated': '2020-11-19T00:00:00Z'}, {'id': 1680, 'name': 'Aragon', 'symbol': 'ANT', 'slug': 'aragon', 'score': 821, 'grade': 'A', 'last_updated': '2020-11-19T00:00:00Z'}, {'id': 2682, 'name': 'Holo', 'symbol': 'HOT', 'slug': 'holo', 'score': 821, 'grade': 'A', 'last_updated': '2020-11-19T00:00:00Z'}, {'id': 1376, 'name': 'Neo', 'symbol': 'NEO', 'slug': 'neo', 'score': 815, 'grade': 'A', 'last_updated': '2020-11-19T00:00:00Z'}, {'id': 1697, 'name': 'Basic Attention Token', 'symbol': 'BAT', 'slug': 'basic-attention-token', 'score': 814, 'grade': 'A', 'last_updated': '2020-11-19T00:00:00Z'}, {'id': 2496, 'name': 'Polymath', 'symbol': 'POLY', 'slug': 'polymath-network', 'score': 811, 'grade': 'A', 'last_updated': '2020-11-19T00:00:00Z'}, {'id': 1104, 'name': 'Augur', 'symbol': 'REP', 'slug': 'augur', 'score': 809, 'grade': 'A', 'last_updated': '2020-11-19T00:00:00Z'}, {'id': 1168, 'name': 'Decred', 'symbol': 'DCR', 'slug': 'decred', 'score': 804, 'grade': 'A', 'last_updated': '2020-11-19T00:00:00Z'}, {'id': 1727, 'name': 'Bancor', 'symbol': 'BNT', 'slug': 'bancor', 'score': 802, 'grade': 'A', 'last_updated': '2020-11-19T00:00:00Z'}, {'id': 3794, 'name': 'Cosmos', 'symbol': 'ATOM', 'slug': 'cosmos', 'score': 801, 'grade': 'A', 'last_updated': '2020-11-19T00:00:00Z'}, {'id': 2099, 'name': 'ICON', 'symbol': 'ICX', 'slug': 'icon', 'score': 800, 'grade': 'A', 'last_updated': '2020-11-19T00:00:00Z'}, {'id': 1839, 'name': 'Binance Coin', 'symbol': 'BNB', 'slug': 'binance-coin', 'score': 793, 'grade': 'A', 'last_updated': '2020-11-19T00:00:00Z'}, {'id': 3077, 'name': 'VeChain', 'symbol': 'VET', 'slug': 'vechain', 'score': 790, 'grade': 'A', 'last_updated': '2020-11-19T00:00:00Z'}, {'id': 4172, 'name': 'Terra', 'symbol': 'LUNA', 'slug': 'terra-luna', 'score': 784, 'grade': 'A', 'last_updated': '2020-11-19T00:00:00Z'}, {'id': 825, 'name': 'Tether', 'symbol': 'USDT', 'slug': 'tether', 'score': 781, 'grade': 'A', 'last_updated': '2020-11-19T00:00:00Z'}, {'id': 1298, 'name': 'LBRY Credits', 'symbol': 'LBC', 'slug': 'library-credit', 'score': 779, 'grade': 'A', 'last_updated': '2020-11-19T00:00:00Z'}, {'id': 3408, 'name': 'USD Coin', 'symbol': 'USDC', 'slug': 'usd-coin', 'score': 777, 'grade': 'A', 'last_updated': '2020-11-19T00:00:00Z'}, {'id': 1659, 'name': 'Gnosis', 'symbol': 'GNO', 'slug': 'gnosis-gno', 'score': 773, 'grade': 'A', 'last_updated': '2020-11-19T00:00:00Z'}, {'id': 1274, 'name': 'Waves', 'symbol': 'WAVES', 'slug': 'waves', 'score': 769, 'grade': 'A', 'last_updated': '2020-11-19T00:00:00Z'}, {'id': 2563, 'name': 'TrueUSD', 'symbol': 'TUSD', 'slug': 'trueusd', 'score': 765, 'grade': 'A', 'last_updated': '2020-11-19T00:00:00Z'}, {'id': 3513, 'name': 'Fantom', 'symbol': 'FTM', 'slug': 'fantom', 'score': 765, 'grade': 'A', 'last_updated': '2020-11-19T00:00:00Z'}, {'id': 2011, 'name': 'Tezos', 'symbol': 'XTZ', 'slug': 'tezos', 'score': 761, 'grade': 'A', 'last_updated': '2020-11-19T00:00:00Z'}, {'id': 1586, 'name': 'Ark', 'symbol': 'ARK', 'slug': 'ark', 'score': 759, 'grade': 'A', 'last_updated': '2020-11-19T00:00:00Z'}, {'id': 3330, 'name': 'Paxos Standard', 'symbol': 'PAX', 'slug': 'paxos-standard', 'score': 759, 'grade': 'A', 'last_updated': '2020-11-19T00:00:00Z'}, {'id': 873, 'name': 'NEM', 'symbol': 'XEM', 'slug': 'nem', 'score': 755, 'grade': 'A', 'last_updated': '2020-11-19T00:00:00Z'}, {'id': 2777, 'name': 'IoTeX', 'symbol': 'IOTX', 'slug': 'iotex', 'score': 749, 'grade': 'B', 'last_updated': '2020-11-19T00:00:00Z'}, {'id': 2424, 'name': 'SingularityNET', 'symbol': 'AGI', 'slug': 'singularitynet', 'score': 746, 'grade': 'B', 'last_updated': '2020-11-19T00:00:00Z'}, {'id': 1700, 'name': 'Aeternity', 'symbol': 'AE', 'slug': 'aeternity', 'score': 745, 'grade': 'B', 'last_updated': '2020-11-19T00:00:00Z'}, {'id': 4847, 'name': 'Blockstack', 'symbol': 'STX', 'slug': 'blockstack', 'score': 742, 'grade': 'B', 'last_updated': '2020-11-19T00:00:00Z'}, {'id': 1785, 'name': 'Gas', 'symbol': 'GAS', 'slug': 'gas', 'score': 738, 'grade': 'B', 'last_updated': '2020-11-19T00:00:00Z'}, {'id': 6892, 'name': 'Elrond', 'symbol': 'EGLD', 'slug': 'elrond-egld', 'score': 732, 'grade': 'B', 'last_updated': '2020-11-19T00:00:00Z'}, {'id': 1856, 'name': 'district0x', 'symbol': 'DNT', 'slug': 'district0x', 'score': 732, 'grade': 'B', 'last_updated': '2020-11-19T00:00:00Z'}, {'id': 1637, 'name': 'iExec RLC', 'symbol': 'RLC', 'slug': 'rlc', 'score': 729, 'grade': 'B', 'last_updated': '2020-11-19T00:00:00Z'}, {'id': 2492, 'name': 'Elastos', 'symbol': 'ELA', 'slug': 'elastos', 'score': 727, 'grade': 'B', 'last_updated': '2020-11-19T00:00:00Z'}, {'id': 2, 'name': 'Litecoin', 'symbol': 'LTC', 'slug': 'litecoin', 'score': 725, 'grade': 'B', 'last_updated': '2020-11-19T00:00:00Z'}, {'id': 1732, 'name': 'Numeraire', 'symbol': 'NMR', 'slug': 'numeraire', 'score': 720, 'grade': 'B', 'last_updated': '2020-11-19T00:00:00Z'}, {'id': 2588, 'name': 'Loom Network', 'symbol': 'LOOM', 'slug': 'loom-network', 'score': 717, 'grade': 'B', 'last_updated': '2020-11-19T00:00:00Z'}, {'id': 3835, 'name': 'Orbs', 'symbol': 'ORBS', 'slug': 'orbs', 'score': 716, 'grade': 'B', 'last_updated': '2020-11-19T00:00:00Z'}, {'id': 1521, 'name': 'Komodo', 'symbol': 'KMD', 'slug': 'komodo', 'score': 715, 'grade': 'B', 'last_updated': '2020-11-19T00:00:00Z'}, {'id': 1993, 'name': 'Kin', 'symbol': 'KIN', 'slug': 'kin', 'score': 714, 'grade': 'B', 'last_updated': '2020-11-19T00:00:00Z'}, {'id': 1042, 'name': 'Siacoin', 'symbol': 'SC', 'slug': 'siacoin', 'score': 711, 'grade': 'B', 'last_updated': '2020-11-19T00:00:00Z'}, {'id': 463, 'name': 'BitShares', 'symbol': 'BTS', 'slug': 'bitshares', 'score': 707, 'grade': 'B', 'last_updated': '2020-11-19T00:00:00Z'}, {'id': 2467, 'name': 'OriginTrail', 'symbol': 'TRAC', 'slug': 'origintrail', 'score': 702, 'grade': 'B', 'last_updated': '2020-11-19T00:00:00Z'}, {'id': 2044, 'name': 'Enigma', 'symbol': 'ENG', 'slug': 'enigma', 'score': 701, 'grade': 'B', 'last_updated': '2020-11-19T00:00:00Z'}, {'id': 2548, 'name': 'POA', 'symbol': 'POA', 'slug': 'poa', 'score': 698, 'grade': 'B', 'last_updated': '2020-11-19T00:00:00Z'}, {'id': 2299, 'name': 'aelf', 'symbol': 'ELF', 'slug': 'aelf', 'score': 698, 'grade': 'B', 'last_updated': '2020-11-19T00:00:00Z'}, {'id': 2130, 'name': 'Enjin Coin', 'symbol': 'ENJ', 'slug': 'enjin-coin', 'score': 693, 'grade': 'B', 'last_updated': '2020-11-19T00:00:00Z'}, {'id': 2566, 'name': 'Ontology', 'symbol': 'ONT', 'slug': 'ontology', 'score': 691, 'grade': 'B', 'last_updated': '2020-11-19T00:00:00Z'}, {'id': 2161, 'name': 'Raiden Network Token', 'symbol': 'RDN', 'slug': 'raiden-network-token', 'score': 689, 'grade': 'B', 'last_updated': '2020-11-19T00:00:00Z'}, {'id': 1567, 'name': 'Nano', 'symbol': 'NANO', 'slug': 'nano', 'score': 687, 'grade': 'B', 'last_updated': '2020-11-19T00:00:00Z'}, {'id': 1214, 'name': 'Lisk', 'symbol': 'LSK', 'slug': 'lisk', 'score': 683, 'grade': 'B', 'last_updated': '2020-11-19T00:00:00Z'}, {'id': 1684, 'name': 'Qtum', 'symbol': 'QTUM', 'slug': 'qtum', 'score': 678, 'grade': 'B', 'last_updated': '2020-11-19T00:00:00Z'}, {'id': 3773, 'name': 'Fetch.ai', 'symbol': 'FET', 'slug': 'fetch', 'score': 675, 'grade': 'B', 'last_updated': '2020-11-19T00:00:00Z'}, {'id': 1230, 'name': 'Steem', 'symbol': 'STEEM', 'slug': 'steem', 'score': 670, 'grade': 'B', 'last_updated': '2020-11-19T00:00:00Z'}, {'id': 2143, 'name': 'Streamr', 'symbol': 'DATA', 'slug': 'streamr', 'score': 666, 'grade': 'B', 'last_updated': '2020-11-19T00:00:00Z'}, {'id': 1343, 'name': 'Stratis', 'symbol': 'STRAX', 'slug': 'stratis', 'score': 665, 'grade': 'B', 'last_updated': '2020-11-19T00:00:00Z'}, {'id': 2499, 'name': 'SwissBorg', 'symbol': 'CHSB', 'slug': 'swissborg', 'score': 656, 'grade': 'B', 'last_updated': '2020-11-19T00:00:00Z'}, {'id': 1527, 'name': 'Waves Community Token', 'symbol': 'WCT', 'slug': 'waves-community-token', 'score': 650, 'grade': 'B', 'last_updated': '2020-11-19T00:00:00Z'}, {'id': 1169, 'name': 'PIVX', 'symbol': 'PIVX', 'slug': 'pivx', 'score': 649, 'grade': 'C', 'last_updated': '2020-11-19T00:00:00Z'}, {'id': 74, 'name': 'Dogecoin', 'symbol': 'DOGE', 'slug': 'dogecoin', 'score': 647, 'grade': 'C', 'last_updated': '2020-11-19T00:00:00Z'}, {'id': 1757, 'name': 'FunFair', 'symbol': 'FUN', 'slug': 'funfair', 'score': 647, 'grade': 'C', 'last_updated': '2020-11-19T00:00:00Z'}, {'id': 2337, 'name': 'Lamden', 'symbol': 'TAU', 'slug': 'lamden', 'score': 645, 'grade': 'C', 'last_updated': '2020-11-19T00:00:00Z'}, {'id': 1816, 'name': 'Civic', 'symbol': 'CVC', 'slug': 'civic', 'score': 642, 'grade': 'C', 'last_updated': '2020-11-19T00:00:00Z'}, {'id': 1414, 'name': 'Zcoin', 'symbol': 'XZC', 'slug': 'zcoin', 'score': 639, 'grade': 'C', 'last_updated': '2020-11-19T00:00:00Z'}, {'id': 1720, 'name': 'IOTA', 'symbol': 'MIOTA', 'slug': 'iota', 'score': 638, 'grade': 'C', 'last_updated': '2020-11-19T00:00:00Z'}, {'id': 2071, 'name': 'Request', 'symbol': 'REQ', 'slug': 'request', 'score': 637, 'grade': 'C', 'last_updated': '2020-11-19T00:00:00Z'}, {'id': 2096, 'name': 'Ripio Credit Network', 'symbol': 'RCN', 'slug': 'ripio-credit-network', 'score': 636, 'grade': 'C', 'last_updated': '2020-11-19T00:00:00Z'}, {'id': 1866, 'name': 'Bytom', 'symbol': 'BTM', 'slug': 'bytom', 'score': 631, 'grade': 'C', 'last_updated': '2020-11-19T00:00:00Z'}, {'id': 2957, 'name': 'Olive', 'symbol': 'OLE', 'slug': 'olive', 'score': 618, 'grade': 'C', 'last_updated': '2019-06-21T00:00:00Z'}, {'id': 2276, 'name': 'Ignis', 'symbol': 'IGNIS', 'slug': 'ignis', 'score': 615, 'grade': 'C', 'last_updated': '2019-12-19T00:00:00Z'}]"
      ]
     },
     "execution_count": 3,
     "metadata": {},
     "output_type": "execute_result"
    }
   ],
   "source": [
    "FCAS_listing"
   ]
  },
  {
   "cell_type": "code",
   "execution_count": 5,
   "metadata": {},
   "outputs": [],
   "source": [
    "FCAS_quote = cmc.partners_flipsidecrypto_fcas_quotes_latest(symbol='LTC')"
   ]
  },
  {
   "cell_type": "code",
   "execution_count": 6,
   "metadata": {},
   "outputs": [
    {
     "data": {
      "text/plain": [
       "RESPONSE: 199ms OK: {'LTC': {'id': 2, 'name': 'Litecoin', 'symbol': 'LTC', 'slug': 'litecoin', 'score': 725, 'grade': 'B', 'last_updated': '2020-11-19T00:00:00Z', 'percent_change_24h': 1.1157601115760112, 'point_change_24h': 8}}"
      ]
     },
     "execution_count": 6,
     "metadata": {},
     "output_type": "execute_result"
    }
   ],
   "source": [
    "FCAS_quote"
   ]
  },
  {
   "cell_type": "code",
   "execution_count": null,
   "metadata": {},
   "outputs": [],
   "source": []
  }
 ],
 "metadata": {
  "kernelspec": {
   "display_name": "Python 3",
   "language": "python",
   "name": "python3"
  },
  "language_info": {
   "codemirror_mode": {
    "name": "ipython",
    "version": 3
   },
   "file_extension": ".py",
   "mimetype": "text/x-python",
   "name": "python",
   "nbconvert_exporter": "python",
   "pygments_lexer": "ipython3",
   "version": "3.8.3"
  }
 },
 "nbformat": 4,
 "nbformat_minor": 4
}
